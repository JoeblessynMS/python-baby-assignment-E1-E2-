{
 "cells": [
  {
   "cell_type": "code",
   "execution_count": 2,
   "id": "43673f65-fca1-4c5a-a1f2-b55e37edc2fe",
   "metadata": {},
   "outputs": [
    {
     "name": "stdout",
     "output_type": "stream",
     "text": [
      "Welcome to Assignment-1\n"
     ]
    }
   ],
   "source": [
    "#1\n",
    "print(\"Welcome to Assignment-1\")"
   ]
  },
  {
   "cell_type": "code",
   "execution_count": null,
   "id": "7597c5fe-0dd1-448d-a9de-67bc8e563724",
   "metadata": {},
   "outputs": [],
   "source": [
    "#2"
   ]
  },
  {
   "cell_type": "code",
   "execution_count": 5,
   "id": "81908ffc-f446-4b1d-9349-97845246439b",
   "metadata": {},
   "outputs": [
    {
     "name": "stdin",
     "output_type": "stream",
     "text": [
      "Num1 = 10\n",
      "Num2 = 30\n"
     ]
    },
    {
     "name": "stdout",
     "output_type": "stream",
     "text": [
      "Add = 40\n"
     ]
    }
   ],
   "source": [
    "N1 = int(input(\"Num1 =\"))\n",
    "N2 = int(input(\"Num2 =\"))\n",
    "Add = N1+N2\n",
    "print(\"Add =\",Add)"
   ]
  },
  {
   "cell_type": "code",
   "execution_count": 8,
   "id": "257c1c1f-4439-4794-b24e-f645775ae97e",
   "metadata": {},
   "outputs": [
    {
     "name": "stdin",
     "output_type": "stream",
     "text": [
      "Enter the BMI index: 22\n"
     ]
    }
   ],
   "source": [
    "#Body mass index"
   ]
  },
  {
   "cell_type": "code",
   "execution_count": 24,
   "id": "4ff7ccf8-fc48-4e62-ac3c-d9928551b073",
   "metadata": {},
   "outputs": [
    {
     "name": "stdin",
     "output_type": "stream",
     "text": [
      "Enter the BMI index: 34\n"
     ]
    }
   ],
   "source": [
    "Bmi = int(input(\"Enter the BMI index:\"))"
   ]
  },
  {
   "cell_type": "code",
   "execution_count": 28,
   "id": "da320132-3952-40ce-8567-19587a7d56c1",
   "metadata": {},
   "outputs": [
    {
     "name": "stdin",
     "output_type": "stream",
     "text": [
      "Enter the BMI index: 34\n"
     ]
    },
    {
     "name": "stdout",
     "output_type": "stream",
     "text": [
      "very weight\n"
     ]
    }
   ],
   "source": [
    "Bmi = int(input(\"Enter the BMI index:\"))\n",
    "if(Bmi<=18):\n",
    "    print(\"Underweight\")\n",
    "elif(Bmi<=24):\n",
    "    print(\"Normal\")\n",
    "elif(Bmi<=33):\n",
    "    print(\"over weight\")\n",
    "else:\n",
    "    print(\"very weight\")"
   ]
  },
  {
   "cell_type": "code",
   "execution_count": null,
   "id": "37be5b4d-e828-4c67-b06a-5d0f6eb81482",
   "metadata": {},
   "outputs": [],
   "source": []
  }
 ],
 "metadata": {
  "kernelspec": {
   "display_name": "Python 3 (ipykernel)",
   "language": "python",
   "name": "python3"
  },
  "language_info": {
   "codemirror_mode": {
    "name": "ipython",
    "version": 3
   },
   "file_extension": ".py",
   "mimetype": "text/x-python",
   "name": "python",
   "nbconvert_exporter": "python",
   "pygments_lexer": "ipython3",
   "version": "3.13.5"
  }
 },
 "nbformat": 4,
 "nbformat_minor": 5
}
