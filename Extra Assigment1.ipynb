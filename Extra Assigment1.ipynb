{
 "cells": [
  {
   "cell_type": "code",
   "execution_count": null,
   "id": "ebd342db-463a-4276-a644-8f037dae0303",
   "metadata": {},
   "outputs": [],
   "source": [
    "#print statement\n",
    "#output : HOPE AI"
   ]
  },
  {
   "cell_type": "code",
   "execution_count": 1,
   "id": "87e6e220-8b8d-440f-8d2f-14dc953adc7d",
   "metadata": {},
   "outputs": [
    {
     "name": "stdout",
     "output_type": "stream",
     "text": [
      "HOPE AI\n"
     ]
    }
   ],
   "source": [
    "print(\"HOPE AI\")"
   ]
  },
  {
   "cell_type": "code",
   "execution_count": 2,
   "id": "e7e6dffc-d333-4572-9430-d4985a77fc62",
   "metadata": {},
   "outputs": [
    {
     "name": "stdin",
     "output_type": "stream",
     "text": [
      "Enter your institute name? : HOPE AI\n"
     ]
    }
   ],
   "source": [
    "Ai = input(\"Enter your institute name? :\")"
   ]
  },
  {
   "cell_type": "code",
   "execution_count": null,
   "id": "20d3ce52-9255-4cda-a6d2-340bc5a8d876",
   "metadata": {},
   "outputs": [],
   "source": [
    "#Addition"
   ]
  },
  {
   "cell_type": "code",
   "execution_count": 4,
   "id": "4ade6c69-6d3e-4423-8ecf-34e6e9f6493c",
   "metadata": {},
   "outputs": [
    {
     "name": "stdin",
     "output_type": "stream",
     "text": [
      "a=  43\n",
      "b=  34\n"
     ]
    },
    {
     "name": "stdout",
     "output_type": "stream",
     "text": [
      "add = 77\n"
     ]
    }
   ],
   "source": [
    "num1 = int(input(\"a= \"))\n",
    "num2 = int(input(\"b= \"))\n",
    "add= num1 + num2\n",
    "print(\"add =\",add)"
   ]
  },
  {
   "cell_type": "code",
   "execution_count": null,
   "id": "c6dbd8c6-6781-4aec-8479-320974b8c804",
   "metadata": {},
   "outputs": [],
   "source": [
    "#Subration"
   ]
  },
  {
   "cell_type": "code",
   "execution_count": 5,
   "id": "565b387d-3060-4c25-ba9f-4c32fe471659",
   "metadata": {},
   "outputs": [
    {
     "name": "stdin",
     "output_type": "stream",
     "text": [
      "a=  43\n",
      "b=  34\n"
     ]
    },
    {
     "name": "stdout",
     "output_type": "stream",
     "text": [
      "Sub = 9\n"
     ]
    }
   ],
   "source": [
    "num1 = int(input(\"a= \"))\n",
    "num2 = int(input(\"b= \"))\n",
    "Sub= num1 - num2\n",
    "print(\"Sub =\",Sub)"
   ]
  },
  {
   "cell_type": "code",
   "execution_count": null,
   "id": "027d3642-f0d8-42dd-a4a3-41fd2ae47a62",
   "metadata": {},
   "outputs": [],
   "source": [
    "#Multiplication"
   ]
  },
  {
   "cell_type": "code",
   "execution_count": 6,
   "id": "5074364a-5513-4a37-831a-d0b34b506dc6",
   "metadata": {},
   "outputs": [
    {
     "name": "stdin",
     "output_type": "stream",
     "text": [
      "a=  63\n",
      "b=  97\n"
     ]
    },
    {
     "name": "stdout",
     "output_type": "stream",
     "text": [
      "Mul = 6111\n"
     ]
    }
   ],
   "source": [
    "num1 = int(input(\"a= \"))\n",
    "num2 = int(input(\"b= \"))\n",
    "mul= num1 * num2\n",
    "print(\"Mul =\",mul)"
   ]
  },
  {
   "cell_type": "code",
   "execution_count": null,
   "id": "295734f7-be57-4956-995f-d3555ab355b4",
   "metadata": {},
   "outputs": [],
   "source": [
    "#Division"
   ]
  },
  {
   "cell_type": "code",
   "execution_count": 7,
   "id": "e5913feb-2782-44e9-8f4f-403bf5b22ee0",
   "metadata": {},
   "outputs": [
    {
     "name": "stdin",
     "output_type": "stream",
     "text": [
      "a=  76\n",
      "b=  31\n"
     ]
    },
    {
     "name": "stdout",
     "output_type": "stream",
     "text": [
      "Float Div = 2.4516129032258065\n"
     ]
    }
   ],
   "source": [
    "num1 = float(input(\"a= \"))\n",
    "num2 = float(input(\"b= \"))\n",
    "Div= num1 / num2\n",
    "print(\"Float Div =\",Div)"
   ]
  },
  {
   "cell_type": "code",
   "execution_count": null,
   "id": "c9b999d6-cdb5-4e4c-a893-afe1ac3a0d33",
   "metadata": {},
   "outputs": [],
   "source": [
    "#floor Division"
   ]
  },
  {
   "cell_type": "code",
   "execution_count": 8,
   "id": "712b364c-b2b1-43e6-837f-3b647fc838fd",
   "metadata": {},
   "outputs": [
    {
     "name": "stdin",
     "output_type": "stream",
     "text": [
      "a=  76\n",
      "b=  31\n"
     ]
    },
    {
     "name": "stdout",
     "output_type": "stream",
     "text": [
      "Floor Div = 2\n"
     ]
    }
   ],
   "source": [
    "num1 = int(input(\"a= \"))\n",
    "num2 = int(input(\"b= \"))\n",
    "Floor= num1 // num2\n",
    "print(\"Floor Div =\",Floor)"
   ]
  },
  {
   "cell_type": "code",
   "execution_count": 9,
   "id": "cf6d2ada-9b75-4e23-9885-a6e942f03903",
   "metadata": {},
   "outputs": [
    {
     "name": "stdin",
     "output_type": "stream",
     "text": [
      "a=  76\n",
      "b=  31\n"
     ]
    },
    {
     "name": "stdout",
     "output_type": "stream",
     "text": [
      "Modulo = 14\n"
     ]
    }
   ],
   "source": [
    "num1 = int(input(\"a= \"))\n",
    "num2 = int(input(\"b= \"))\n",
    "Modulo= num1 % num2\n",
    "print(\"Modulo =\",Modulo)"
   ]
  },
  {
   "cell_type": "code",
   "execution_count": null,
   "id": "dad2dfe8-c8fc-42ff-ab24-1e8ccd0a7b40",
   "metadata": {},
   "outputs": [],
   "source": [
    "#power"
   ]
  },
  {
   "cell_type": "code",
   "execution_count": 10,
   "id": "0aed1c30-997e-4d3a-81ac-f25fed6e5155",
   "metadata": {},
   "outputs": [
    {
     "name": "stdin",
     "output_type": "stream",
     "text": [
      "a=  4\n",
      "b=  4\n"
     ]
    },
    {
     "name": "stdout",
     "output_type": "stream",
     "text": [
      "power = 256\n"
     ]
    }
   ],
   "source": [
    "num1 = int(input(\"a= \"))\n",
    "num2 = int(input(\"b= \"))\n",
    "Power= num1 ** num2\n",
    "print(\"power =\",Power)"
   ]
  },
  {
   "cell_type": "code",
   "execution_count": null,
   "id": "d6f72be1-5ca2-40dd-bc51-9aa60bc1f9a4",
   "metadata": {},
   "outputs": [],
   "source": []
  }
 ],
 "metadata": {
  "kernelspec": {
   "display_name": "Python 3 (ipykernel)",
   "language": "python",
   "name": "python3"
  },
  "language_info": {
   "codemirror_mode": {
    "name": "ipython",
    "version": 3
   },
   "file_extension": ".py",
   "mimetype": "text/x-python",
   "name": "python",
   "nbconvert_exporter": "python",
   "pygments_lexer": "ipython3",
   "version": "3.13.5"
  }
 },
 "nbformat": 4,
 "nbformat_minor": 5
}
