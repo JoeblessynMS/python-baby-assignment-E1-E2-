{
 "cells": [
  {
   "cell_type": "code",
   "execution_count": null,
   "id": "94a9863c-9247-4ed0-8f36-59fcd5a55c1f",
   "metadata": {},
   "outputs": [],
   "source": [
    "#print 'CORRECT' if i == 10"
   ]
  },
  {
   "cell_type": "code",
   "execution_count": 2,
   "id": "b633ec0f-2c28-4e27-a4da-6e740e19c433",
   "metadata": {},
   "outputs": [
    {
     "name": "stdin",
     "output_type": "stream",
     "text": [
      "Value: 10\n"
     ]
    },
    {
     "name": "stdout",
     "output_type": "stream",
     "text": [
      "Correct\n"
     ]
    }
   ],
   "source": [
    "value = int(input(\"Value:\"))\n",
    "if (value==10):\n",
    "    print(\"Correct\")\n",
    "else:\n",
    "    print(\"Wrong\")"
   ]
  },
  {
   "cell_type": "code",
   "execution_count": null,
   "id": "6b101443-498f-4624-a7e7-56deead7b7d8",
   "metadata": {},
   "outputs": [],
   "source": [
    "#Check the password, using if and else"
   ]
  },
  {
   "cell_type": "code",
   "execution_count": 19,
   "id": "2ec08f20-f4f4-49f9-b7cb-d1e6ea9cf382",
   "metadata": {},
   "outputs": [
    {
     "name": "stdin",
     "output_type": "stream",
     "text": [
      "Enter the password: HOPE@123\n"
     ]
    },
    {
     "name": "stdout",
     "output_type": "stream",
     "text": [
      "Your password is correct:\n"
     ]
    }
   ],
   "source": [
    "A =input(\"Enter the password:\")\n",
    "B =\"HOPE@123\"\n",
    "if (A == B):\n",
    "    print(\"Your password is correct:\")\n",
    "else:\n",
    "    print(\"Your password is wrong:\")\n"
   ]
  },
  {
   "cell_type": "code",
   "execution_count": null,
   "id": "cd69145e-79ac-46cf-8a8b-42164f563169",
   "metadata": {},
   "outputs": [],
   "source": [
    "#Catagory the people by their age like chilldren,Adult,citizen,senior citizen..."
   ]
  },
  {
   "cell_type": "code",
   "execution_count": 21,
   "id": "93f33ebf-feb0-4398-a5e6-3b9e0d19fcdc",
   "metadata": {},
   "outputs": [
    {
     "name": "stdin",
     "output_type": "stream",
     "text": [
      "age: 20\n"
     ]
    },
    {
     "name": "stdout",
     "output_type": "stream",
     "text": [
      "Adult\n"
     ]
    }
   ],
   "source": [
    "age = int(input(\"age:\"))\n",
    "if(age<18):\n",
    "    print(\"child\")\n",
    "elif(age<35):\n",
    "    print(\"Adult\")\n",
    "elif(age<79):\n",
    "    print(\"citizen\")\n",
    "else:\n",
    "    print(\"senior citizen\")"
   ]
  },
  {
   "cell_type": "code",
   "execution_count": null,
   "id": "753212be-1394-42f7-aa6f-3573b3391c92",
   "metadata": {},
   "outputs": [],
   "source": [
    "#find whether number is poative or negative"
   ]
  },
  {
   "cell_type": "code",
   "execution_count": 24,
   "id": "6b7ebac4-3759-419d-bfc0-b046d6a169cb",
   "metadata": {},
   "outputs": [
    {
     "name": "stdin",
     "output_type": "stream",
     "text": [
      "Enter any number: 1\n"
     ]
    },
    {
     "name": "stdout",
     "output_type": "stream",
     "text": [
      "no is postive\n"
     ]
    }
   ],
   "source": [
    "num1 = int(input(\"Enter any number:\"))\n",
    "if( num1>=0 ):\n",
    "           print(\"no is postive\")\n",
    "else:\n",
    "    print(\"no is negative\")\n"
   ]
  },
  {
   "cell_type": "code",
   "execution_count": null,
   "id": "8f357a2a-86a3-44fa-92da-f0ca6c1a45f7",
   "metadata": {},
   "outputs": [],
   "source": [
    "#check whether the given number is Divisable by 5"
   ]
  },
  {
   "cell_type": "code",
   "execution_count": 27,
   "id": "e87da4e6-6d77-4e47-b87b-90beea9f2ee0",
   "metadata": {},
   "outputs": [
    {
     "name": "stdin",
     "output_type": "stream",
     "text": [
      "Enter a number to check: 22\n"
     ]
    },
    {
     "name": "stdout",
     "output_type": "stream",
     "text": [
      "No is not divisible by 5\n"
     ]
    }
   ],
   "source": [
    "a = int(input(\"Enter a number to check:\"))\n",
    "if (a % 5)==0:\n",
    "    print(\"No is divisuble by 5\")\n",
    "else:\n",
    "    print(\"No is not divisible by 5\")\n",
    "        "
   ]
  },
  {
   "cell_type": "code",
   "execution_count": null,
   "id": "6861050a-e117-4377-871c-50ffb69856bd",
   "metadata": {},
   "outputs": [],
   "source": []
  }
 ],
 "metadata": {
  "kernelspec": {
   "display_name": "Python 3 (ipykernel)",
   "language": "python",
   "name": "python3"
  },
  "language_info": {
   "codemirror_mode": {
    "name": "ipython",
    "version": 3
   },
   "file_extension": ".py",
   "mimetype": "text/x-python",
   "name": "python",
   "nbconvert_exporter": "python",
   "pygments_lexer": "ipython3",
   "version": "3.13.5"
  }
 },
 "nbformat": 4,
 "nbformat_minor": 5
}
