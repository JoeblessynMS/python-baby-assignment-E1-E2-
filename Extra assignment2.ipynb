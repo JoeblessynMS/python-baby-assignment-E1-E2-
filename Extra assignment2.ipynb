{
 "cells": [
  {
   "cell_type": "code",
   "execution_count": null,
   "id": "03a616c6-ad8a-4d09-877b-ac87393cde87",
   "metadata": {},
   "outputs": [],
   "source": [
    "#print 0 to 20 by using range"
   ]
  },
  {
   "cell_type": "code",
   "execution_count": 1,
   "id": "d3db5c5c-544c-4722-903e-2cd23669170a",
   "metadata": {},
   "outputs": [
    {
     "name": "stdout",
     "output_type": "stream",
     "text": [
      "0\n",
      "1\n",
      "2\n",
      "3\n",
      "4\n",
      "5\n",
      "6\n",
      "7\n",
      "8\n",
      "9\n",
      "10\n",
      "11\n",
      "12\n",
      "13\n",
      "14\n",
      "15\n",
      "16\n",
      "17\n",
      "18\n",
      "19\n"
     ]
    }
   ],
   "source": [
    "for num in range(0,20):\n",
    "    print(num)"
   ]
  },
  {
   "cell_type": "code",
   "execution_count": null,
   "id": "5a097061-d93f-4dac-b389-8ee4c43b4421",
   "metadata": {},
   "outputs": [],
   "source": [
    "#print range 10 to 20"
   ]
  },
  {
   "cell_type": "code",
   "execution_count": 5,
   "id": "e07d6177-412c-4eb9-a171-06fe274b2e6e",
   "metadata": {},
   "outputs": [
    {
     "name": "stdout",
     "output_type": "stream",
     "text": [
      "10 11 12 13 14 15 16 17 18 19 "
     ]
    }
   ],
   "source": [
    "for num in range(10,20):\n",
    "    print(num,end=\" \")\n",
    "    "
   ]
  },
  {
   "cell_type": "code",
   "execution_count": null,
   "id": "95b73ffd-6fea-4519-a040-f64a49b83c19",
   "metadata": {},
   "outputs": [],
   "source": [
    "#print number of items in the list by using 'len'"
   ]
  },
  {
   "cell_type": "code",
   "execution_count": 7,
   "id": "98de2391-ba83-4e34-a994-4cc7888270e5",
   "metadata": {},
   "outputs": [
    {
     "name": "stdout",
     "output_type": "stream",
     "text": [
      "[10, 20, 14, 55, 43, 87, 76]\n",
      "Number of item in the list2: 7\n"
     ]
    }
   ],
   "source": [
    "list1 =[10,20,14,55,43,87,76]\n",
    "print(list1)\n",
    "Length_List=len(list1)\n",
    "print(\"Number of item in the list2:\",Length_List)\n"
   ]
  },
  {
   "cell_type": "code",
   "execution_count": 14,
   "id": "ce1ca735-a42a-4997-8ca1-889e87b350f0",
   "metadata": {},
   "outputs": [
    {
     "name": "stdout",
     "output_type": "stream",
     "text": [
      "Artificial Intelligence\n",
      "A\n",
      "r\n",
      "t\n",
      "i\n",
      "f\n",
      "i\n",
      "c\n",
      "i\n",
      "a\n",
      "l\n",
      "I\n",
      "n\n",
      "t\n",
      "e\n",
      "l\n",
      "l\n",
      "i\n",
      "g\n",
      "e\n",
      "n\n",
      "c\n",
      "e\n"
     ]
    }
   ],
   "source": [
    "text = \"Artificial\"+ \" \" + \"Intelligence\"\n",
    "print(text)\n",
    "for num in text:\n",
    "    if num != \" \":\n",
    "        print(num)"
   ]
  },
  {
   "cell_type": "code",
   "execution_count": 15,
   "id": "c71d4b7c-17b2-403a-9f4c-aaaf217b8bc6",
   "metadata": {},
   "outputs": [
    {
     "name": "stdout",
     "output_type": "stream",
     "text": [
      "(1, 'Welcome', 2, 'HOPE')\n"
     ]
    }
   ],
   "source": [
    "my_tuple =(1,\"Welcome\",2,\"HOPE\")\n",
    "print(my_tuple)"
   ]
  },
  {
   "cell_type": "code",
   "execution_count": null,
   "id": "11141a78-fc6d-4fd3-9036-b7c71b911903",
   "metadata": {},
   "outputs": [],
   "source": [
    "#tuple1 = (0,1,2,3,)"
   ]
  },
  {
   "cell_type": "code",
   "execution_count": 22,
   "id": "ee046f31-a6e8-4e6c-b1de-274d27229c21",
   "metadata": {},
   "outputs": [
    {
     "name": "stdout",
     "output_type": "stream",
     "text": [
      "(0, 1, 2, 3, 'python', 'HOPE')\n"
     ]
    }
   ],
   "source": [
    "tuple1 =(0,1,2,3)\n",
    "tuple2 =(\"python\",\"HOPE\")\n",
    "tuple3 =tuple1 + tuple2\n",
    "print(tuple3)"
   ]
  },
  {
   "cell_type": "code",
   "execution_count": 29,
   "id": "a11252c0-e5c9-4b9d-b54e-7e7aafc49720",
   "metadata": {},
   "outputs": [],
   "source": [
    "#print odd Number in rhe last"
   ]
  },
  {
   "cell_type": "code",
   "execution_count": 39,
   "id": "70f7c72a-ac10-45df-bc4c-15d260779ac4",
   "metadata": {},
   "outputs": [
    {
     "name": "stdout",
     "output_type": "stream",
     "text": [
      "20 is odd\n",
      "10 is odd\n",
      "16 is odd\n"
     ]
    }
   ],
   "source": [
    "list =[20,10,16,19,25,1,276,188]\n",
    "for num in list:\n",
    "    if (num%2)==0:\n",
    "        print(num,\"is odd\")\n",
    "    else:\n",
    "        break"
   ]
  },
  {
   "cell_type": "code",
   "execution_count": null,
   "id": "223f14f9-2d55-4c39-a404-e928815aeb16",
   "metadata": {},
   "outputs": [],
   "source": []
  }
 ],
 "metadata": {
  "kernelspec": {
   "display_name": "Python 3 (ipykernel)",
   "language": "python",
   "name": "python3"
  },
  "language_info": {
   "codemirror_mode": {
    "name": "ipython",
    "version": 3
   },
   "file_extension": ".py",
   "mimetype": "text/x-python",
   "name": "python",
   "nbconvert_exporter": "python",
   "pygments_lexer": "ipython3",
   "version": "3.13.5"
  }
 },
 "nbformat": 4,
 "nbformat_minor": 5
}
